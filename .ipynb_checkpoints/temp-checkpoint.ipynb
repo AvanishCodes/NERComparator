{
 "cells": [
  {
   "cell_type": "markdown",
   "metadata": {},
   "source": [
    "## Using spacy's inbuilt multiprocessing"
   ]
  },
  {
   "cell_type": "code",
   "execution_count": 5,
   "metadata": {},
   "outputs": [
    {
     "ename": "ModuleNotFoundError",
     "evalue": "No module named 'termcolor'",
     "output_type": "error",
     "traceback": [
      "\u001b[0;31m---------------------------------------------------------------------------\u001b[0m",
      "\u001b[0;31mModuleNotFoundError\u001b[0m                       Traceback (most recent call last)",
      "\u001b[0;32m/tmp/ipykernel_5895/3714460932.py\u001b[0m in \u001b[0;36m<module>\u001b[0;34m\u001b[0m\n\u001b[1;32m      3\u001b[0m \u001b[0;32mimport\u001b[0m \u001b[0mpandas\u001b[0m \u001b[0;32mas\u001b[0m \u001b[0mpd\u001b[0m  \u001b[0;31m# To read the csv file\u001b[0m\u001b[0;34m\u001b[0m\u001b[0;34m\u001b[0m\u001b[0m\n\u001b[1;32m      4\u001b[0m \u001b[0;32mimport\u001b[0m \u001b[0mtimeit\u001b[0m  \u001b[0;31m# To calculate the time taken to run the code\u001b[0m\u001b[0;34m\u001b[0m\u001b[0;34m\u001b[0m\u001b[0m\n\u001b[0;32m----> 5\u001b[0;31m \u001b[0;32mfrom\u001b[0m \u001b[0mtermcolor\u001b[0m \u001b[0;32mimport\u001b[0m \u001b[0mcolored\u001b[0m  \u001b[0;31m# Color the output\u001b[0m\u001b[0;34m\u001b[0m\u001b[0;34m\u001b[0m\u001b[0m\n\u001b[0m",
      "\u001b[0;31mModuleNotFoundError\u001b[0m: No module named 'termcolor'"
     ]
    }
   ],
   "source": [
    "import spacy  # Spacy Module\n",
    "import os  # To create the folder structure\n",
    "import pandas as pd  # To read the csv file\n",
    "import timeit  # To calculate the time taken to run the code\n",
    "from termcolor import colored  # Color the output"
   ]
  },
  {
   "cell_type": "code",
   "execution_count": null,
   "metadata": {},
   "outputs": [],
   "source": [
    "\n",
    "def spacy_runner(model: str = 'medium') -> None:\n",
    "    '''\n",
    "        Description: This function is used to load the data from the dataset and process it to identify the named entities.\n",
    "        Output: Inside a file spacy_large.csv, the data is stored in the following\n",
    "                format:\ttoken.text, token.lemma_, token.pos_, token.tag_, token.dep_, token.shape_, token.is_alpha, token.is_stop\n",
    "        Model Used: Spacy Small/Medium/Large\n",
    "        Default: Spacy Medium\n",
    "    '''\n",
    "\n",
    "    # Determine and Load the spacy model\n",
    "    model_name = 'en_core_web_sm' if model == 'small' else 'en_core_web_lg' if model == 'large' else 'en_core_web_md'\n",
    "    nlp = spacy.load(model_name)\n",
    "    del model_name\n",
    "    # Write the data to a file\n",
    "    filename = f'./data/spacy_{model}.csv'\n",
    "    with open(filename, 'w') as f:\n",
    "        for df in pd.read_csv('./data.csv', chunksize=32):\n",
    "            data = df['text'].values.tolist()\n",
    "            del df\n",
    "            for text in data:\n",
    "                # Process the text\n",
    "                doc = nlp(u'{}'.format(text))\n",
    "                for token in doc.ents:\n",
    "                    if token.label_ == 'PERSON' or token.label_ == 'ORG' or token.label_ == 'PER':\n",
    "                        f.write(f'{token.text},{token.label_}\\n')\n",
    "                    del token\n",
    "                    continue\n",
    "                del text\n",
    "                del doc\n",
    "                continue\n",
    "            del data\n",
    "            continue\n",
    "    return\n"
   ]
  },
  {
   "cell_type": "code",
   "execution_count": null,
   "metadata": {},
   "outputs": [],
   "source": [
    "def process_model(f) -> None:\n",
    "    '''\n",
    "        Description: This function is used to run the NLP model on the dataset.\n",
    "        Input: Function name\n",
    "        Output: None\n",
    "    '''\n",
    "\n",
    "    # Run the function\n",
    "    with open('./results.csv', 'a') as result_file:\n",
    "        # Calcuate the time\n",
    "        start_time = timeit.default_timer()\n",
    "        print('Started {f}'.format(f=f))\n",
    "        try:\n",
    "            f['function'](**f['parameters'])\n",
    "        except Exception as e:\n",
    "            print(e)\n",
    "        elapsed = timeit.default_timer() - start_time\n",
    "        print( colored(f'[*] {f[\"function\"]} completed in {elapsed} seconds', 'green'))\n",
    "        # Calculate the number of tags\n",
    "        filename = f'./data/{f[\"function\"].__name__[:-7]}_{f[\"parameters\"][\"model\"]}.csv'\n",
    "\n",
    "        # Store the results to the target file\n",
    "        with open(filename, 'r') as file:\n",
    "            # Get the number of tags extracted, and write the (package, model, time, number_of_tags)\n",
    "            num_tags = len(file.readlines())\n",
    "            print(\n",
    "                f\"{f['function'].__name__[:-7]}, {f['parameters']['model']}, {elapsed}, {num_tags}\", file=result_file)\n",
    "    return\n"
   ]
  },
  {
   "cell_type": "code",
   "execution_count": null,
   "metadata": {},
   "outputs": [],
   "source": [
    "def time_counter(functions: list) -> None:\n",
    "    '''\n",
    "        Description: This function is used to time the execution of the functions  passed as an argument.\n",
    "        Input: List of functions\n",
    "        Output: None\n",
    "    '''\n",
    "    # Print the runtime of the functions\n",
    "    for f in functions:\n",
    "        process_model(f)\n",
    "        # p1 = Process(process(f))\n",
    "        # p1.start()\n",
    "        del f\n",
    "        continue\n",
    "    return"
   ]
  },
  {
   "cell_type": "code",
   "execution_count": null,
   "metadata": {},
   "outputs": [],
   "source": [
    "def main():\n",
    "    '''\n",
    "        Description: Driver Function to call other functions\n",
    "    '''\n",
    "\n",
    "    functions = [\n",
    "        {'function': spacy_runner, 'parameters': {'model': 'small'}},\n",
    "    ]\n",
    "    time_counter(functions)\n",
    "    return\n"
   ]
  },
  {
   "cell_type": "code",
   "execution_count": 2,
   "metadata": {},
   "outputs": [
    {
     "ename": "NameError",
     "evalue": "name 'main' is not defined",
     "output_type": "error",
     "traceback": [
      "\u001b[0;31m---------------------------------------------------------------------------\u001b[0m",
      "\u001b[0;31mNameError\u001b[0m                                 Traceback (most recent call last)",
      "\u001b[0;32m/tmp/ipykernel_5895/1742120210.py\u001b[0m in \u001b[0;36m<module>\u001b[0;34m\u001b[0m\n\u001b[1;32m      1\u001b[0m \u001b[0;31m# Enforce the main function\u001b[0m\u001b[0;34m\u001b[0m\u001b[0;34m\u001b[0m\u001b[0;34m\u001b[0m\u001b[0m\n\u001b[1;32m      2\u001b[0m \u001b[0;32mif\u001b[0m \u001b[0m__name__\u001b[0m \u001b[0;34m==\u001b[0m \u001b[0;34m'__main__'\u001b[0m\u001b[0;34m:\u001b[0m\u001b[0;34m\u001b[0m\u001b[0;34m\u001b[0m\u001b[0m\n\u001b[0;32m----> 3\u001b[0;31m     \u001b[0mmain\u001b[0m\u001b[0;34m(\u001b[0m\u001b[0;34m)\u001b[0m\u001b[0;34m\u001b[0m\u001b[0;34m\u001b[0m\u001b[0m\n\u001b[0m\u001b[1;32m      4\u001b[0m     \u001b[0mexit\u001b[0m\u001b[0;34m(\u001b[0m\u001b[0;36m0\u001b[0m\u001b[0;34m)\u001b[0m\u001b[0;34m\u001b[0m\u001b[0;34m\u001b[0m\u001b[0m\n",
      "\u001b[0;31mNameError\u001b[0m: name 'main' is not defined"
     ]
    }
   ],
   "source": [
    "# Enforce the main function\n",
    "if __name__ == '__main__':\n",
    "    main()\n",
    "    exit(0)"
   ]
  },
  {
   "cell_type": "code",
   "execution_count": null,
   "metadata": {},
   "outputs": [],
   "source": []
  }
 ],
 "metadata": {
  "interpreter": {
   "hash": "1bc0930114ac732f21be4e9b1a801931d01ff64d1ca5afac7e7244afd23a3e7b"
  },
  "kernelspec": {
   "display_name": "Python 3 (ipykernel)",
   "language": "python",
   "name": "python3"
  },
  "language_info": {
   "codemirror_mode": {
    "name": "ipython",
    "version": 3
   },
   "file_extension": ".py",
   "mimetype": "text/x-python",
   "name": "python",
   "nbconvert_exporter": "python",
   "pygments_lexer": "ipython3",
   "version": "3.8.5"
  }
 },
 "nbformat": 4,
 "nbformat_minor": 2
}
